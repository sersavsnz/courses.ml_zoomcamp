{
 "cells": [
  {
   "cell_type": "markdown",
   "metadata": {
    "id": "S8odb99wr-vA"
   },
   "source": [
    "# Homework: 01-Intro\n",
    "\n",
    "[ML zoomcamp](https://github.com/alexeygrigorev/mlbookcamp-code/tree/master/course-zoomcamp/01-intro) course.  \n",
    "[Homework](https://github.com/alexeygrigorev/mlbookcamp-code/blob/master/course-zoomcamp/cohorts/2022/01-intro/homework.md)"
   ]
  },
  {
   "cell_type": "code",
   "execution_count": null,
   "metadata": {
    "id": "KLTbu3i_syWF"
   },
   "outputs": [],
   "source": [
    "import numpy as np\n",
    "import pandas as pd"
   ]
  },
  {
   "cell_type": "code",
   "execution_count": null,
   "metadata": {
    "colab": {
     "base_uri": "https://localhost:8080/",
     "height": 35
    },
    "executionInfo": {
     "elapsed": 21,
     "status": "ok",
     "timestamp": 1662819811123,
     "user": {
      "displayName": "Sergei Savin",
      "userId": "13691546355725312534"
     },
     "user_tz": -420
    },
    "id": "wATVWvAksSiM",
    "outputId": "11e7ee55-be92-423e-ddcf-40324302f0b2"
   },
   "outputs": [
    {
     "data": {
      "application/vnd.google.colaboratory.intrinsic+json": {
       "type": "string"
      },
      "text/plain": [
       "'1.21.6'"
      ]
     },
     "execution_count": 3,
     "metadata": {},
     "output_type": "execute_result"
    }
   ],
   "source": [
    "# Q1: What's the version of NumPy that you installed?\n",
    "np.__version__\n"
   ]
  },
  {
   "cell_type": "code",
   "execution_count": null,
   "metadata": {
    "colab": {
     "base_uri": "https://localhost:8080/"
    },
    "executionInfo": {
     "elapsed": 20,
     "status": "ok",
     "timestamp": 1662819811124,
     "user": {
      "displayName": "Sergei Savin",
      "userId": "13691546355725312534"
     },
     "user_tz": -420
    },
    "id": "kFsXLwwTsxNR",
    "outputId": "a3a8d136-6825-4cb8-cd83-2cb376d4cfb7"
   },
   "outputs": [
    {
     "name": "stdout",
     "output_type": "stream",
     "text": [
      "--2022-09-10 14:23:30--  https://raw.githubusercontent.com/alexeygrigorev/mlbookcamp-code/master/chapter-02-car-price/data.csv\n",
      "Resolving raw.githubusercontent.com (raw.githubusercontent.com)... 185.199.108.133, 185.199.109.133, 185.199.110.133, ...\n",
      "Connecting to raw.githubusercontent.com (raw.githubusercontent.com)|185.199.108.133|:443... connected.\n",
      "HTTP request sent, awaiting response... 200 OK\n",
      "Length: 1475504 (1.4M) [text/plain]\n",
      "Saving to: ‘data.csv’\n",
      "\n",
      "data.csv            100%[===================>]   1.41M  --.-KB/s    in 0.06s   \n",
      "\n",
      "2022-09-10 14:23:30 (23.7 MB/s) - ‘data.csv’ saved [1475504/1475504]\n",
      "\n"
     ]
    }
   ],
   "source": [
    "# Donwload and read data\n",
    "! wget https://raw.githubusercontent.com/alexeygrigorev/mlbookcamp-code/master/chapter-02-car-price/data.csv\n",
    "df = pd.read_csv('data.csv')"
   ]
  },
  {
   "cell_type": "code",
   "execution_count": null,
   "metadata": {
    "colab": {
     "base_uri": "https://localhost:8080/"
    },
    "executionInfo": {
     "elapsed": 17,
     "status": "ok",
     "timestamp": 1662819811124,
     "user": {
      "displayName": "Sergei Savin",
      "userId": "13691546355725312534"
     },
     "user_tz": -420
    },
    "id": "gJG_5GEWuh1g",
    "outputId": "99bed621-88e9-491d-bfa3-8453db65daaa"
   },
   "outputs": [
    {
     "data": {
      "text/plain": [
       "(11914, 16)"
      ]
     },
     "execution_count": 5,
     "metadata": {},
     "output_type": "execute_result"
    }
   ],
   "source": [
    "# Q2: How many records are in the dataset?\n",
    "df.shape"
   ]
  },
  {
   "cell_type": "code",
   "execution_count": null,
   "metadata": {
    "colab": {
     "base_uri": "https://localhost:8080/"
    },
    "executionInfo": {
     "elapsed": 16,
     "status": "ok",
     "timestamp": 1662819811124,
     "user": {
      "displayName": "Sergei Savin",
      "userId": "13691546355725312534"
     },
     "user_tz": -420
    },
    "id": "boddXcruuzag",
    "outputId": "eafdf10b-2d0c-42c6-c44f-8c13102534c6"
   },
   "outputs": [
    {
     "data": {
      "text/plain": [
       "Make      \n",
       "Chevrolet     1123\n",
       "Ford           881\n",
       "Volkswagen     809\n",
       "dtype: int64"
      ]
     },
     "execution_count": 6,
     "metadata": {},
     "output_type": "execute_result"
    }
   ],
   "source": [
    "# Q3: Who are the most frequent car manufacturers (top-3) according to the dataset?\n",
    "df[['Make']].value_counts()[:3]"
   ]
  },
  {
   "cell_type": "code",
   "execution_count": null,
   "metadata": {
    "colab": {
     "base_uri": "https://localhost:8080/"
    },
    "executionInfo": {
     "elapsed": 15,
     "status": "ok",
     "timestamp": 1662819811124,
     "user": {
      "displayName": "Sergei Savin",
      "userId": "13691546355725312534"
     },
     "user_tz": -420
    },
    "id": "_iCyILXtvlyE",
    "outputId": "bd7290f4-4b29-4962-ef41-e5585f28e164"
   },
   "outputs": [
    {
     "data": {
      "text/plain": [
       "34"
      ]
     },
     "execution_count": 7,
     "metadata": {},
     "output_type": "execute_result"
    }
   ],
   "source": [
    "# Q4: What's the number of unique Audi car models in the dataset?\n",
    "df[df.Make=='Audi']['Model'].nunique()"
   ]
  },
  {
   "cell_type": "code",
   "execution_count": null,
   "metadata": {
    "colab": {
     "base_uri": "https://localhost:8080/"
    },
    "executionInfo": {
     "elapsed": 14,
     "status": "ok",
     "timestamp": 1662819811124,
     "user": {
      "displayName": "Sergei Savin",
      "userId": "13691546355725312534"
     },
     "user_tz": -420
    },
    "id": "aqCewNaHwjWh",
    "outputId": "c8dc98e2-ad1b-478a-97d4-980dccb8f520"
   },
   "outputs": [
    {
     "data": {
      "text/plain": [
       "5"
      ]
     },
     "execution_count": 8,
     "metadata": {},
     "output_type": "execute_result"
    }
   ],
   "source": [
    "# Q5: How many columns in the dataset have missing values?\n",
    "df.isnull().any().sum()"
   ]
  },
  {
   "cell_type": "code",
   "execution_count": null,
   "metadata": {
    "colab": {
     "base_uri": "https://localhost:8080/"
    },
    "executionInfo": {
     "elapsed": 15,
     "status": "ok",
     "timestamp": 1662819811125,
     "user": {
      "displayName": "Sergei Savin",
      "userId": "13691546355725312534"
     },
     "user_tz": -420
    },
    "id": "Uri4C599wjZr",
    "outputId": "bc623e26-709d-48fc-81ec-35da509e5ff8"
   },
   "outputs": [
    {
     "name": "stdout",
     "output_type": "stream",
     "text": [
      "'Engine Cylinders' column median value is 6.0\n",
      "'Engine Cylinders' column most frequient value is 4.0\n",
      "'Engine Cylinders' column median value is 6.0\n"
     ]
    }
   ],
   "source": [
    "# Q6:\n",
    "# Find the median value of \"Engine Cylinders\" column in the dataset.\n",
    "# Next, calculate the most frequent value of the same \"Engine Cylinders\".\n",
    "# Use the fillna method to fill the missing values in \"Engine Cylinders\" with the most frequent value from the previous step.\n",
    "# Now, calculate the median value of \"Engine Cylinders\" once again.\n",
    "# Has it changed?\n",
    "col = 'Engine Cylinders'\n",
    "print(f\"'{col}' column median value is {df[col].median()}\")\n",
    "mode = df[col].mode()[0]\n",
    "print(f\"'{col}' column most frequient value is {mode}\")\n",
    "df[col] = df[col].fillna(mode)\n",
    "print(f\"'{col}' column median value is {df[col].median()}\")\n"
   ]
  },
  {
   "cell_type": "code",
   "execution_count": null,
   "metadata": {
    "colab": {
     "base_uri": "https://localhost:8080/"
    },
    "executionInfo": {
     "elapsed": 434,
     "status": "ok",
     "timestamp": 1662819811545,
     "user": {
      "displayName": "Sergei Savin",
      "userId": "13691546355725312534"
     },
     "user_tz": -420
    },
    "id": "pgFxhNCcywZB",
    "outputId": "6b05d9f7-aad8-4bb5-f3c3-e2c8c4e4900e"
   },
   "outputs": [
    {
     "data": {
      "text/plain": [
       "array([  4.59494481, -63.56432501])"
      ]
     },
     "execution_count": 10,
     "metadata": {},
     "output_type": "execute_result"
    }
   ],
   "source": [
    "# Q7:\n",
    "  # Select all the \"Lotus\" cars from the dataset.\n",
    "  # Select only columns \"Engine HP\", \"Engine Cylinders\".\n",
    "  # Now drop all duplicated rows using drop_duplicates method (you should get a dataframe with 9 rows).\n",
    "  # Get the underlying NumPy array. Let's call it X.\n",
    "  # Compute matrix-matrix multiplication between the transpose of X and X. To get the transpose, use X.T. Let's call the result XTX.\n",
    "  # Invert XTX.\n",
    "  # Create an array y with values [1100, 800, 750, 850, 1300, 1000, 1000, 1300, 800].\n",
    "  # Multiply the inverse of XTX with the transpose of X, and then multiply the result by y. Call the result w.\n",
    "  # What's the value of the first element of w?\n",
    "\n",
    "y = np.array([1100, 800, 750, 850, 1300, 1000, 1000, 1300, 800])\n",
    "cols = [\"Engine HP\", \"Engine Cylinders\"]\n",
    "X = df[df.Make=='Lotus'][cols].drop_duplicates().to_numpy()\n",
    "XTX = X.T @ X\n",
    "w = (np.linalg.inv(XTX) @ X.T) @ y\n",
    "w"
   ]
  }
 ],
 "metadata": {
  "accelerator": "GPU",
  "colab": {
   "authorship_tag": "ABX9TyMUA6cW1GmqYGFbVCeJ2OHA",
   "collapsed_sections": [],
   "provenance": []
  },
  "gpuClass": "standard",
  "kernelspec": {
   "display_name": "Python 3 (ipykernel)",
   "language": "python",
   "name": "python3"
  },
  "language_info": {
   "codemirror_mode": {
    "name": "ipython",
    "version": 3
   },
   "file_extension": ".py",
   "mimetype": "text/x-python",
   "name": "python",
   "nbconvert_exporter": "python",
   "pygments_lexer": "ipython3",
   "version": "3.10.0"
  }
 },
 "nbformat": 4,
 "nbformat_minor": 4
}

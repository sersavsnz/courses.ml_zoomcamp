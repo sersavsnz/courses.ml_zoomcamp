{
 "cells": [
  {
   "cell_type": "markdown",
   "id": "8c0ae2b1-9bdd-4abf-b7e5-286e2400429b",
   "metadata": {},
   "source": [
    "# Homework: 02-Regression\n",
    "\n",
    "[ML zoomcamp](https://github.com/alexeygrigorev/mlbookcamp-code/tree/master/course-zoomcamp/01-intro) course.  \n",
    "[Homework](https://github.com/alexeygrigorev/mlbookcamp-code/blob/master/course-zoomcamp/cohorts/2022/01-intro/homework.md)"
   ]
  },
  {
   "cell_type": "code",
   "execution_count": 1,
   "id": "e4b55408-e7e1-475f-b3fd-6af34aa19800",
   "metadata": {},
   "outputs": [],
   "source": [
    "import pandas as pd\n",
    "import numpy as np\n",
    "import seaborn as sns\n",
    "import matplotlib.pyplot as plt\n",
    "\n",
    "from sklearn.linear_model import LinearRegression, Ridge \n",
    "from sklearn.metrics import mean_squared_error\n",
    "\n",
    "%matplotlib inline"
   ]
  },
  {
   "cell_type": "code",
   "execution_count": 2,
   "id": "edf118ec-7aad-4dff-9ecf-f80acfae89bc",
   "metadata": {},
   "outputs": [
    {
     "data": {
      "text/html": [
       "<div>\n",
       "<style scoped>\n",
       "    .dataframe tbody tr th:only-of-type {\n",
       "        vertical-align: middle;\n",
       "    }\n",
       "\n",
       "    .dataframe tbody tr th {\n",
       "        vertical-align: top;\n",
       "    }\n",
       "\n",
       "    .dataframe thead th {\n",
       "        text-align: right;\n",
       "    }\n",
       "</style>\n",
       "<table border=\"1\" class=\"dataframe\">\n",
       "  <thead>\n",
       "    <tr style=\"text-align: right;\">\n",
       "      <th></th>\n",
       "      <th>longitude</th>\n",
       "      <th>latitude</th>\n",
       "      <th>housing_median_age</th>\n",
       "      <th>total_rooms</th>\n",
       "      <th>total_bedrooms</th>\n",
       "      <th>population</th>\n",
       "      <th>households</th>\n",
       "      <th>median_income</th>\n",
       "      <th>median_house_value</th>\n",
       "      <th>ocean_proximity</th>\n",
       "    </tr>\n",
       "  </thead>\n",
       "  <tbody>\n",
       "    <tr>\n",
       "      <th>0</th>\n",
       "      <td>-122.23</td>\n",
       "      <td>37.88</td>\n",
       "      <td>41.0</td>\n",
       "      <td>880.0</td>\n",
       "      <td>129.0</td>\n",
       "      <td>322.0</td>\n",
       "      <td>126.0</td>\n",
       "      <td>8.3252</td>\n",
       "      <td>452600.0</td>\n",
       "      <td>NEAR BAY</td>\n",
       "    </tr>\n",
       "    <tr>\n",
       "      <th>1</th>\n",
       "      <td>-122.22</td>\n",
       "      <td>37.86</td>\n",
       "      <td>21.0</td>\n",
       "      <td>7099.0</td>\n",
       "      <td>1106.0</td>\n",
       "      <td>2401.0</td>\n",
       "      <td>1138.0</td>\n",
       "      <td>8.3014</td>\n",
       "      <td>358500.0</td>\n",
       "      <td>NEAR BAY</td>\n",
       "    </tr>\n",
       "    <tr>\n",
       "      <th>2</th>\n",
       "      <td>-122.24</td>\n",
       "      <td>37.85</td>\n",
       "      <td>52.0</td>\n",
       "      <td>1467.0</td>\n",
       "      <td>190.0</td>\n",
       "      <td>496.0</td>\n",
       "      <td>177.0</td>\n",
       "      <td>7.2574</td>\n",
       "      <td>352100.0</td>\n",
       "      <td>NEAR BAY</td>\n",
       "    </tr>\n",
       "    <tr>\n",
       "      <th>3</th>\n",
       "      <td>-122.25</td>\n",
       "      <td>37.85</td>\n",
       "      <td>52.0</td>\n",
       "      <td>1274.0</td>\n",
       "      <td>235.0</td>\n",
       "      <td>558.0</td>\n",
       "      <td>219.0</td>\n",
       "      <td>5.6431</td>\n",
       "      <td>341300.0</td>\n",
       "      <td>NEAR BAY</td>\n",
       "    </tr>\n",
       "    <tr>\n",
       "      <th>4</th>\n",
       "      <td>-122.25</td>\n",
       "      <td>37.85</td>\n",
       "      <td>52.0</td>\n",
       "      <td>1627.0</td>\n",
       "      <td>280.0</td>\n",
       "      <td>565.0</td>\n",
       "      <td>259.0</td>\n",
       "      <td>3.8462</td>\n",
       "      <td>342200.0</td>\n",
       "      <td>NEAR BAY</td>\n",
       "    </tr>\n",
       "  </tbody>\n",
       "</table>\n",
       "</div>"
      ],
      "text/plain": [
       "   longitude  latitude  housing_median_age  total_rooms  total_bedrooms  \\\n",
       "0    -122.23     37.88                41.0        880.0           129.0   \n",
       "1    -122.22     37.86                21.0       7099.0          1106.0   \n",
       "2    -122.24     37.85                52.0       1467.0           190.0   \n",
       "3    -122.25     37.85                52.0       1274.0           235.0   \n",
       "4    -122.25     37.85                52.0       1627.0           280.0   \n",
       "\n",
       "   population  households  median_income  median_house_value ocean_proximity  \n",
       "0       322.0       126.0         8.3252            452600.0        NEAR BAY  \n",
       "1      2401.0      1138.0         8.3014            358500.0        NEAR BAY  \n",
       "2       496.0       177.0         7.2574            352100.0        NEAR BAY  \n",
       "3       558.0       219.0         5.6431            341300.0        NEAR BAY  \n",
       "4       565.0       259.0         3.8462            342200.0        NEAR BAY  "
      ]
     },
     "execution_count": 2,
     "metadata": {},
     "output_type": "execute_result"
    }
   ],
   "source": [
    "# ! wget https://raw.githubusercontent.com/alexeygrigorev/datasets/master/housing.csv\n",
    "df = pd.read_csv('housing.csv')\n",
    "df.head()"
   ]
  },
  {
   "cell_type": "code",
   "execution_count": 3,
   "id": "38317968-e8c1-4817-9198-a07a92f9a455",
   "metadata": {},
   "outputs": [
    {
     "data": {
      "text/plain": [
       "<AxesSubplot: xlabel='median_house_value', ylabel='Count'>"
      ]
     },
     "execution_count": 3,
     "metadata": {},
     "output_type": "execute_result"
    },
    {
     "data": {
      "image/png": "[encoded data removed]",
      "text/plain": [
       "<Figure size 640x480 with 1 Axes>"
      ]
     },
     "metadata": {},
     "output_type": "display_data"
    }
   ],
   "source": [
    "sns.histplot(df.median_house_value, bins = 100)"
   ]
  },
  {
   "cell_type": "code",
   "execution_count": 4,
   "id": "ddef6854-2d7c-4754-92e3-aef8e54ab570",
   "metadata": {},
   "outputs": [
    {
     "name": "stdout",
     "output_type": "stream",
     "text": [
      "<class 'pandas.core.frame.DataFrame'>\n",
      "RangeIndex: 20640 entries, 0 to 20639\n",
      "Data columns (total 9 columns):\n",
      " #   Column              Non-Null Count  Dtype  \n",
      "---  ------              --------------  -----  \n",
      " 0   longitude           20640 non-null  float64\n",
      " 1   latitude            20640 non-null  float64\n",
      " 2   housing_median_age  20640 non-null  float64\n",
      " 3   total_rooms         20640 non-null  float64\n",
      " 4   total_bedrooms      20433 non-null  float64\n",
      " 5   population          20640 non-null  float64\n",
      " 6   households          20640 non-null  float64\n",
      " 7   median_income       20640 non-null  float64\n",
      " 8   median_house_value  20640 non-null  float64\n",
      "dtypes: float64(9)\n",
      "memory usage: 1.4 MB\n"
     ]
    }
   ],
   "source": [
    "del df['ocean_proximity']\n",
    "df.info()\n"
   ]
  },
  {
   "cell_type": "markdown",
   "id": "eec6f469-ada9-4bf2-8087-93c0698a50ff",
   "metadata": {},
   "source": [
    "## Q1: Find a feature with missing values. How many missing values does it have?"
   ]
  },
  {
   "cell_type": "code",
   "execution_count": 5,
   "id": "97e31e72-142a-4783-a882-db777444c536",
   "metadata": {},
   "outputs": [
    {
     "data": {
      "text/plain": [
       "longitude               0\n",
       "latitude                0\n",
       "housing_median_age      0\n",
       "total_rooms             0\n",
       "total_bedrooms        207\n",
       "population              0\n",
       "households              0\n",
       "median_income           0\n",
       "median_house_value      0\n",
       "dtype: int64"
      ]
     },
     "execution_count": 5,
     "metadata": {},
     "output_type": "execute_result"
    }
   ],
   "source": [
    "df.isnull().sum()"
   ]
  },
  {
   "cell_type": "markdown",
   "id": "49bf3f7c-36ad-4bd9-b893-905334888839",
   "metadata": {},
   "source": [
    "## Q2: What's the median (50% percentile) for variable 'population'?"
   ]
  },
  {
   "cell_type": "code",
   "execution_count": 6,
   "id": "37e38c20-e9a8-4b34-814e-0a6ada0f55ba",
   "metadata": {},
   "outputs": [
    {
     "name": "stdout",
     "output_type": "stream",
     "text": [
      "1166.0\n"
     ]
    },
    {
     "data": {
      "text/plain": [
       "count    20640.000000\n",
       "mean      1425.476744\n",
       "std       1132.462122\n",
       "min          3.000000\n",
       "25%        787.000000\n",
       "50%       1166.000000\n",
       "75%       1725.000000\n",
       "max      35682.000000\n",
       "Name: population, dtype: float64"
      ]
     },
     "execution_count": 6,
     "metadata": {},
     "output_type": "execute_result"
    }
   ],
   "source": [
    "print(df.population.median())\n",
    "df.population.describe()"
   ]
  },
  {
   "cell_type": "code",
   "execution_count": 7,
   "id": "4504c436-c73b-4aa6-ad5b-7eab5eb22991",
   "metadata": {},
   "outputs": [],
   "source": [
    "#  60-20-20% split\n",
    "\n",
    "def split_data(df, seed = 42):\n",
    "    \n",
    "    '''\n",
    "    Splits 60-20-20 and returns X = (x_train, x_val, x_test) and y = (y_train, y_val, y_test)\n",
    "    '''\n",
    "    \n",
    "    df = df.copy()\n",
    "\n",
    "    df = df.sample(frac=1, random_state = seed)\n",
    "\n",
    "    y = df['median_house_value']\n",
    "    y = np.log1p(y)\n",
    "    del df['median_house_value']\n",
    "\n",
    "    idx1, idx2 = int(0.6*len(df)), int(0.8*len(df))\n",
    "    X = np.split(df, [idx1, idx2])\n",
    "    y = np.split(y, [idx1, idx2])\n",
    "    \n",
    "    return X, y"
   ]
  },
  {
   "cell_type": "code",
   "execution_count": 8,
   "id": "18c24497-e21b-4476-b6da-e15c2bea1972",
   "metadata": {},
   "outputs": [
    {
     "data": {
      "text/plain": [
       "(<AxesSubplot: xlabel='median_house_value', ylabel='Count'>,\n",
       " <AxesSubplot: xlabel='median_house_value', ylabel='Count'>)"
      ]
     },
     "execution_count": 8,
     "metadata": {},
     "output_type": "execute_result"
    },
    {
     "data": {
      "image/png": "[encoded data removed]",
      "text/plain": [
       "<Figure size 1200x500 with 2 Axes>"
      ]
     },
     "metadata": {},
     "output_type": "display_data"
    }
   ],
   "source": [
    "# train, val and test sets are from same distributions\n",
    "# so we can train the model\n",
    "\n",
    "_, (y_train, y_val, y_test) = split_data(df)\n",
    "\n",
    "fig, ax = plt.subplots(1,2)\n",
    "fig.set_size_inches(12, 5)\n",
    "sns.histplot(y_train, ax=ax[0])\n",
    "sns.histplot(y_test, ax=ax[1]), sns.histplot(y_val,ax=ax[1])"
   ]
  },
  {
   "cell_type": "markdown",
   "id": "2d9d9a35-673b-47f4-a42b-c9d0149da6da",
   "metadata": {},
   "source": [
    "## Q4: replace missing values\n",
    "We can fill in with 0 (thus ignoring the feature in LR) or with median values. Let's find out which one is 'better'"
   ]
  },
  {
   "cell_type": "code",
   "execution_count": 9,
   "id": "bd75e775-176f-4914-a541-4e2c272c7c99",
   "metadata": {},
   "outputs": [
    {
     "name": "stdout",
     "output_type": "stream",
     "text": [
      "0.34131359101566766\n",
      "0.3295330365\n"
     ]
    }
   ],
   "source": [
    "# fill with 0s\n",
    "(x_train, x_val, x_test), (y_train, y_val, y_test) = split_data(df.fillna(0))\n",
    "\n",
    "linreg = LinearRegression().fit(x_train, y_train)\n",
    "\n",
    "# eval on training set\n",
    "y_pred = linreg.predict(x_train)\n",
    "print(mean_squared_error(y_pred, y_train, squared=False))\n",
    "\n",
    "# eval on validation set\n",
    "y_pred = linreg.predict(x_val)\n",
    "print(round(mean_squared_error(y_pred, y_val, squared=False),10))"
   ]
  },
  {
   "cell_type": "code",
   "execution_count": 10,
   "id": "41d990ae-2c5b-4130-9468-500a1d8b5032",
   "metadata": {},
   "outputs": [
    {
     "name": "stdout",
     "output_type": "stream",
     "text": [
      "0.34104161810328054\n",
      "0.3290195439\n"
     ]
    }
   ],
   "source": [
    "# fill with mean values\n",
    "(x_train, x_val, x_test), (y_train, y_val, y_test) = split_data(df)\n",
    "replace_by = x_train.total_bedrooms.mean()\n",
    "(x_train, x_val, x_test), (y_train, y_val, y_test) = split_data(df.fillna(replace_by))\n",
    "\n",
    "\n",
    "linreg = LinearRegression().fit(x_train, y_train)\n",
    "\n",
    "# eval on training set\n",
    "y_pred = linreg.predict(x_train)\n",
    "print(mean_squared_error(y_pred, y_train, squared=False))\n",
    "\n",
    "# eval on validation set\n",
    "y_pred = linreg.predict(x_val)\n",
    "print(round(mean_squared_error(y_pred, y_val, squared=False),10))\n"
   ]
  },
  {
   "cell_type": "markdown",
   "id": "f33b2b01-2e0a-4c6e-9b13-e31c02a7973d",
   "metadata": {},
   "source": [
    "## Q5: regularize and choose optimal value of r\n",
    "Note: adding a small number $r$ to the diagonal elements of $X^T X$ matrix is essentially the same as adding term $r\\sum w_j^2$ to the loss function"
   ]
  },
  {
   "cell_type": "code",
   "execution_count": 11,
   "id": "188f5058-8ce7-4ec8-b0ce-622f483f8a8b",
   "metadata": {},
   "outputs": [
    {
     "name": "stdout",
     "output_type": "stream",
     "text": [
      "r = 0\n",
      "rmse val: 0.35\n",
      "\n",
      "r = 1e-06\n",
      "rmse val: 0.35\n",
      "\n",
      "r = 0.0001\n",
      "rmse val: 0.35\n",
      "\n",
      "r = 0.001\n",
      "rmse val: 0.35\n",
      "\n",
      "r = 0.01\n",
      "rmse val: 0.35\n",
      "\n",
      "r = 0.1\n",
      "rmse val: 0.35\n",
      "\n",
      "r = 1\n",
      "rmse val: 0.35\n",
      "\n",
      "r = 5\n",
      "rmse val: 0.35\n",
      "\n",
      "r = 10\n",
      "rmse val: 0.35\n",
      "\n"
     ]
    }
   ],
   "source": [
    "(x_train, x_val, x_test), (y_train, y_val, y_test) = split_data(df.fillna(0))\n",
    "\n",
    "for alpha in [0, 0.000001, 0.0001, 0.001, 0.01, 0.1, 1, 5, 10]:\n",
    "    \n",
    "    reg = Ridge(alpha=alpha).fit(x_train, y_train)\n",
    "    print('r =', alpha)\n",
    "    \n",
    "    # eval on validation set\n",
    "    y_pred = linreg.predict(x_test)\n",
    "    print('rmse val:', round(mean_squared_error(y_pred, y_test, squared=False), 2))\n",
    "    \n",
    "    print()"
   ]
  },
  {
   "cell_type": "markdown",
   "id": "ebd0fc9c-813a-44f1-bf85-eaca3aa23ba2",
   "metadata": {},
   "source": [
    "Sklearn implementation worked better then a direct inversion. It seems that better algorithms are used (like [scipy.optimize.nnls](https://docs.scipy.org/doc/scipy/reference/generated/scipy.optimize.nnls.html) and [scipy.linalg.lstsq](https://docs.scipy.org/doc/scipy/reference/generated/scipy.linalg.lstsq.html)\n",
    "\n",
    "To answer the questions let's use the course [notebook](https://github.com/alexeygrigorev/mlbookcamp-code/blob/master/chapter-02-car-price/02-carprice.ipynb)."
   ]
  },
  {
   "cell_type": "code",
   "execution_count": 12,
   "id": "c6b21b22-7ff9-411d-883a-6faa6cd37a02",
   "metadata": {},
   "outputs": [],
   "source": [
    "def train_linear_regression_reg(X, y, r=0.0):\n",
    "    ones = np.ones(X.shape[0])\n",
    "    X = np.column_stack([ones, X])\n",
    "\n",
    "    XTX = X.T.dot(X)\n",
    "    reg = r * np.eye(XTX.shape[0])\n",
    "    XTX = XTX + reg\n",
    "\n",
    "    XTX_inv = np.linalg.inv(XTX)\n",
    "    w = XTX_inv.dot(X.T).dot(y)\n",
    "    \n",
    "    return w[0], w[1:]"
   ]
  },
  {
   "cell_type": "code",
   "execution_count": 13,
   "id": "c1b704b9-1173-44de-a025-451b4a0bb115",
   "metadata": {},
   "outputs": [
    {
     "name": "stdout",
     "output_type": "stream",
     "text": [
      "0\n",
      "val: 0.33\n",
      "\n",
      "1e-06\n",
      "val: 0.33\n",
      "\n",
      "0.0001\n",
      "val: 0.33\n",
      "\n",
      "0.001\n",
      "val: 0.33\n",
      "\n",
      "0.01\n",
      "val: 0.33\n",
      "\n",
      "0.1\n",
      "val: 0.33\n",
      "\n",
      "1\n",
      "val: 0.33\n",
      "\n",
      "5\n",
      "val: 0.34\n",
      "\n",
      "10\n",
      "val: 0.34\n",
      "\n"
     ]
    }
   ],
   "source": [
    "(x_train, x_val, x_test), (y_train, y_val, y_test) = split_data(df.fillna(0))\n",
    "x_train = x_train.to_numpy()\n",
    "\n",
    "for alpha in [0, 0.000001, 0.0001, 0.001, 0.01, 0.1, 1, 5, 10]:\n",
    "    print(alpha)\n",
    "    w_0, w = train_linear_regression_reg(x_train, y_train, r=alpha)\n",
    "\n",
    "    y_pred = w_0 + x_val.dot(w)\n",
    "    print('val:', round(mean_squared_error(y_pred, y_val, squared=False),2))\n",
    "    print()"
   ]
  },
  {
   "cell_type": "markdown",
   "id": "1f1dc753-9392-4639-91a2-979749ac2c74",
   "metadata": {},
   "source": [
    "## Q5: evaluate the LR model for different seed values and find the std of rmse."
   ]
  },
  {
   "cell_type": "code",
   "execution_count": 14,
   "id": "93e4560f-922f-443d-b948-15dfc37aa2df",
   "metadata": {},
   "outputs": [],
   "source": [
    "rmse = []\n",
    "for seed in range(10):\n",
    "    (x_train, x_val, x_test), (y_train, y_val, y_test) = split_data(df.fillna(0), seed=seed)\n",
    "\n",
    "    linreg = LinearRegression().fit(x_train, y_train)\n",
    "\n",
    "    # eval on validation set\n",
    "    y_pred = linreg.predict(x_val)\n",
    "    rmse.append(mean_squared_error(y_pred, y_val, squared=False))"
   ]
  },
  {
   "cell_type": "code",
   "execution_count": 15,
   "id": "f432231d-0f22-40a3-848e-b6de06689206",
   "metadata": {},
   "outputs": [
    {
     "name": "stdout",
     "output_type": "stream",
     "text": [
      "[0.33884304805305293, 0.3362387255956413, 0.3320912318834922, 0.3405153609035668, 0.33890240665724547, 0.3434866725718445, 0.3451980953099276, 0.33959899274092836, 0.34662308731842484, 0.3365926124180074]\n"
     ]
    },
    {
     "data": {
      "text/plain": [
       "0.004"
      ]
     },
     "execution_count": 15,
     "metadata": {},
     "output_type": "execute_result"
    }
   ],
   "source": [
    "print(rmse)\n",
    "round(np.std(rmse), 3)"
   ]
  },
  {
   "cell_type": "markdown",
   "id": "28d59c33-6c77-4ce1-af5f-dd535755fbc8",
   "metadata": {},
   "source": [
    "## Q6: evaluate on the test set\n",
    "seed=9 "
   ]
  },
  {
   "cell_type": "code",
   "execution_count": 16,
   "id": "58b733ed-2efb-43b7-be9f-dd692d3057e2",
   "metadata": {},
   "outputs": [],
   "source": [
    "#  80-20% split\n",
    "\n",
    "def split_data(df, seed = 9):\n",
    "    \n",
    "    '''\n",
    "    Splits 80-20 and returns X = (x_train, x_test) and y = (y_train, y_test)\n",
    "    '''\n",
    "    \n",
    "    df = df.copy()\n",
    "\n",
    "    df = df.sample(frac=1, random_state = seed)\n",
    "\n",
    "    y = df['median_house_value']\n",
    "    y = np.log1p(y)\n",
    "    del df['median_house_value']\n",
    "\n",
    "    idx1 = int(0.8*len(df))\n",
    "    X = np.split(df, [idx1])\n",
    "    y = np.split(y, [idx1])\n",
    "    \n",
    "    return X, y"
   ]
  },
  {
   "cell_type": "code",
   "execution_count": 17,
   "id": "85f05442-d27c-4d8c-9502-3cfa01a9721c",
   "metadata": {},
   "outputs": [
    {
     "data": {
      "text/plain": [
       "0.3453149507171797"
      ]
     },
     "execution_count": 17,
     "metadata": {},
     "output_type": "execute_result"
    }
   ],
   "source": [
    "(x_train, x_test), (y_train, y_test) = split_data(df.fillna(0))\n",
    "\n",
    "linreg = LinearRegression().fit(x_train, y_train)\n",
    "\n",
    "# eval on test set\n",
    "y_pred = linreg.predict(x_test)\n",
    "mean_squared_error(y_pred, y_test, squared=False)"
   ]
  }
 ],
 "metadata": {
  "kernelspec": {
   "display_name": "Python 3 (ipykernel)",
   "language": "python",
   "name": "python3"
  },
  "language_info": {
   "codemirror_mode": {
    "name": "ipython",
    "version": 3
   },
   "file_extension": ".py",
   "mimetype": "text/x-python",
   "name": "python",
   "nbconvert_exporter": "python",
   "pygments_lexer": "ipython3",
   "version": "3.10.0"
  }
 },
 "nbformat": 4,
 "nbformat_minor": 5
}
